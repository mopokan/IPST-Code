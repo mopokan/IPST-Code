{
  "nbformat": 4,
  "nbformat_minor": 0,
  "metadata": {
    "colab": {
      "name": "GraphBmi.ipynb",
      "provenance": [],
      "collapsed_sections": []
    },
    "kernelspec": {
      "name": "python3",
      "display_name": "Python 3"
    }
  },
  "cells": [
    {
      "cell_type": "markdown",
      "metadata": {
        "id": "wascbFBHdpNQ",
        "colab_type": "text"
      },
      "source": [
        " GraphBmi by Inthat Soonthornsap under MIT License."
      ]
    },
    {
      "cell_type": "code",
      "metadata": {
        "id": "hXDXcSCKLnM9",
        "colab_type": "code",
        "colab": {
          "base_uri": "https://localhost:8080/",
          "height": 122
        },
        "outputId": "637429fa-a6e8-4145-d3f8-d2eb508a2ab5"
      },
      "source": [
        "from google.colab import drive\n",
        "drive.mount('/content/drive')"
      ],
      "execution_count": null,
      "outputs": [
        {
          "output_type": "stream",
          "text": [
            "Go to this URL in a browser: https://accounts.google.com/o/oauth2/auth?client_id=947318989803-6bn6qk8qdgf4n4g3pfee6491hc0brc4i.apps.googleusercontent.com&redirect_uri=urn%3aietf%3awg%3aoauth%3a2.0%3aoob&scope=email%20https%3a%2f%2fwww.googleapis.com%2fauth%2fdocs.test%20https%3a%2f%2fwww.googleapis.com%2fauth%2fdrive%20https%3a%2f%2fwww.googleapis.com%2fauth%2fdrive.photos.readonly%20https%3a%2f%2fwww.googleapis.com%2fauth%2fpeopleapi.readonly&response_type=code\n",
            "\n",
            "Enter your authorization code:\n",
            "··········\n",
            "Mounted at /content/drive\n"
          ],
          "name": "stdout"
        }
      ]
    },
    {
      "cell_type": "code",
      "metadata": {
        "id": "KBXdvsIlLsoM",
        "colab_type": "code",
        "colab": {
          "base_uri": "https://localhost:8080/",
          "height": 136
        },
        "outputId": "c9e8f120-98ba-466f-ec25-96093cb72f69"
      },
      "source": [
        "%cd /content\n",
        "!git clone https://github.com/mopokan/IPST-Code.git"
      ],
      "execution_count": null,
      "outputs": [
        {
          "output_type": "stream",
          "text": [
            "/content\n",
            "Cloning into 'IPST-Code'...\n",
            "remote: Enumerating objects: 13, done.\u001b[K\n",
            "remote: Counting objects: 100% (13/13), done.\u001b[K\n",
            "remote: Compressing objects: 100% (12/12), done.\u001b[K\n",
            "remote: Total 13 (delta 1), reused 0 (delta 0), pack-reused 0\u001b[K\n",
            "Unpacking objects: 100% (13/13), done.\n"
          ],
          "name": "stdout"
        }
      ]
    },
    {
      "cell_type": "code",
      "metadata": {
        "id": "psN7G8-sKobz",
        "colab_type": "code",
        "colab": {}
      },
      "source": [
        "import pandas as pd\n",
        "import matplotlib.pyplot as plt"
      ],
      "execution_count": null,
      "outputs": []
    },
    {
      "cell_type": "code",
      "metadata": {
        "id": "0nhgrlTJK6yt",
        "colab_type": "code",
        "colab": {}
      },
      "source": [
        "data=pd.read_csv(('/content/IPST-Code/BMI.csv') ,names=['ID', 'Gender', 'CsScore', 'Height', 'BMI'])\n",
        "df=pd.DataFrame(data)\n",
        "newData=data"
      ],
      "execution_count": null,
      "outputs": []
    },
    {
      "cell_type": "code",
      "metadata": {
        "id": "hOM8_xeiLepg",
        "colab_type": "code",
        "colab": {
          "base_uri": "https://localhost:8080/",
          "height": 374
        },
        "outputId": "401270e4-aa0f-43ce-d54d-7e535591cb0b"
      },
      "source": [
        "print(df)"
      ],
      "execution_count": null,
      "outputs": [
        {
          "output_type": "stream",
          "text": [
            "      ID  Gender  CsScore  Height  BMI\n",
            "0   5884       2       58     158   23\n",
            "1   5885       2       60     164   22\n",
            "2   5887       1       55     150   24\n",
            "3   5889       1       46     168   16\n",
            "4   5890       2       49     153   21\n",
            "5   5893       1       50     172   17\n",
            "6   5895       1       60     162   23\n",
            "7   5896       1       59     157   24\n",
            "8   5897       2       90     169   32\n",
            "9   5900       2       53     174   18\n",
            "10  5903       1       56     150   25\n",
            "11  5905       2       70     150   31\n",
            "12  5906       1       54     169   19\n",
            "13  5908       1       55     175   18\n",
            "14  5910       1       60     173   20\n",
            "15  5912       1       70     173   23\n",
            "16  5915       1       52     175   17\n",
            "17  5916       2       57     154   24\n",
            "18  5919       1       59     174   19\n",
            "19  5921       2       58     158   23\n"
          ],
          "name": "stdout"
        }
      ]
    },
    {
      "cell_type": "code",
      "metadata": {
        "id": "LEqdPG-sMBQg",
        "colab_type": "code",
        "colab": {}
      },
      "source": [
        "x=df['ID']"
      ],
      "execution_count": null,
      "outputs": []
    },
    {
      "cell_type": "code",
      "metadata": {
        "id": "OyGqMs2XMz2U",
        "colab_type": "code",
        "colab": {}
      },
      "source": [
        "data=df['BMI']"
      ],
      "execution_count": null,
      "outputs": []
    },
    {
      "cell_type": "code",
      "metadata": {
        "id": "kSzIWViQNvmp",
        "colab_type": "code",
        "colab": {
          "base_uri": "https://localhost:8080/",
          "height": 312
        },
        "outputId": "6cbccd46-3437-42c8-9445-02523c000b68"
      },
      "source": [
        "newData.ID.hist(range=[5884,5921],bins=21)\n",
        "plt.title('BMI Table')\n",
        "plt.axis([5884,5921,0,32])\n",
        "plt.xlabel('ID')\n",
        "plt.ylabel('BMI')\n",
        "plt.xticks(range(5884,5921,2))\n",
        "\n",
        "plt.bar(x,data)"
      ],
      "execution_count": null,
      "outputs": [
        {
          "output_type": "execute_result",
          "data": {
            "text/plain": [
              "<BarContainer object of 20 artists>"
            ]
          },
          "metadata": {
            "tags": []
          },
          "execution_count": 73
        },
        {
          "output_type": "display_data",
          "data": {
            "image/png": "[encoded data removed]",
            "text/plain": [
              "<Figure size 432x288 with 1 Axes>"
            ]
          },
          "metadata": {
            "tags": [],
            "needs_background": "light"
          }
        }
      ]
    }
  ]
}